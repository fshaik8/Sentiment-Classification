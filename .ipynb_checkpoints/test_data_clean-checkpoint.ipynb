{
 "cells": [
  {
   "cell_type": "code",
   "execution_count": 1,
   "metadata": {},
   "outputs": [],
   "source": [
    "import pandas as pd\n",
    "import re\n",
    "from nltk.tokenize import word_tokenize\n",
    "from nltk.corpus import stopwords\n",
    "from nltk.stem import PorterStemmer"
   ]
  },
  {
   "cell_type": "markdown",
   "metadata": {},
   "source": [
    "# Read data from Excel Sheet"
   ]
  },
  {
   "cell_type": "code",
   "execution_count": 2,
   "metadata": {},
   "outputs": [],
   "source": [
    "df_obama = pd.read_excel('data/final-testData-no-label-Obama-tweets.xlsx', sheet_name='Obama', header=None, index_col=0, keep_default_na=False, names=['tweets'], dtype='string')\n",
    "df_romney = pd.read_excel('data/final-testData-no-label-Romney-tweets.xlsx', sheet_name='Romney', header=None, index_col=0, keep_default_na=False, names=['tweets'], dtype='string')"
   ]
  },
  {
   "cell_type": "code",
   "execution_count": 3,
   "metadata": {},
   "outputs": [
    {
     "data": {
      "text/html": [
       "<div>\n",
       "<style scoped>\n",
       "    .dataframe tbody tr th:only-of-type {\n",
       "        vertical-align: middle;\n",
       "    }\n",
       "\n",
       "    .dataframe tbody tr th {\n",
       "        vertical-align: top;\n",
       "    }\n",
       "\n",
       "    .dataframe thead th {\n",
       "        text-align: right;\n",
       "    }\n",
       "</style>\n",
       "<table border=\"1\" class=\"dataframe\">\n",
       "  <thead>\n",
       "    <tr style=\"text-align: right;\">\n",
       "      <th></th>\n",
       "      <th>tweets</th>\n",
       "    </tr>\n",
       "  </thead>\n",
       "  <tbody>\n",
       "    <tr>\n",
       "      <th>1</th>\n",
       "      <td>&lt;e&gt;Obama&lt;/e&gt; has to maintain his professionali...</td>\n",
       "    </tr>\n",
       "    <tr>\n",
       "      <th>2</th>\n",
       "      <td>&lt;e&gt;Obama&lt;/e&gt; went into the debate swinging and...</td>\n",
       "    </tr>\n",
       "    <tr>\n",
       "      <th>3</th>\n",
       "      <td>Ditto. I started @247LS 4 years ago. RT @bmorr...</td>\n",
       "    </tr>\n",
       "    <tr>\n",
       "      <th>4</th>\n",
       "      <td>I absolutely love &lt;e&gt;Obama&lt;/e&gt;'s view in &lt;a&gt;im...</td>\n",
       "    </tr>\n",
       "    <tr>\n",
       "      <th>5</th>\n",
       "      <td>I'm agreeing completely with &lt;e&gt;Obama&lt;/e&gt;'s st...</td>\n",
       "    </tr>\n",
       "  </tbody>\n",
       "</table>\n",
       "</div>"
      ],
      "text/plain": [
       "                                              tweets\n",
       "1  <e>Obama</e> has to maintain his professionali...\n",
       "2  <e>Obama</e> went into the debate swinging and...\n",
       "3  Ditto. I started @247LS 4 years ago. RT @bmorr...\n",
       "4  I absolutely love <e>Obama</e>'s view in <a>im...\n",
       "5  I'm agreeing completely with <e>Obama</e>'s st..."
      ]
     },
     "execution_count": 3,
     "metadata": {},
     "output_type": "execute_result"
    }
   ],
   "source": [
    "df_obama.head()"
   ]
  },
  {
   "cell_type": "code",
   "execution_count": 22,
   "metadata": {},
   "outputs": [
    {
     "data": {
      "text/html": [
       "<div>\n",
       "<style scoped>\n",
       "    .dataframe tbody tr th:only-of-type {\n",
       "        vertical-align: middle;\n",
       "    }\n",
       "\n",
       "    .dataframe tbody tr th {\n",
       "        vertical-align: top;\n",
       "    }\n",
       "\n",
       "    .dataframe thead th {\n",
       "        text-align: right;\n",
       "    }\n",
       "</style>\n",
       "<table border=\"1\" class=\"dataframe\">\n",
       "  <thead>\n",
       "    <tr style=\"text-align: right;\">\n",
       "      <th></th>\n",
       "      <th>tweets</th>\n",
       "    </tr>\n",
       "  </thead>\n",
       "  <tbody>\n",
       "    <tr>\n",
       "      <th>1</th>\n",
       "      <td>&lt;e&gt;Romney&lt;/e&gt; got 3 less minutes and had to de...</td>\n",
       "    </tr>\n",
       "    <tr>\n",
       "      <th>2</th>\n",
       "      <td>&lt;e&gt;Mitt  &lt;/e&gt;is beating him UP!  on his record...</td>\n",
       "    </tr>\n",
       "    <tr>\n",
       "      <th>3</th>\n",
       "      <td>I actually like  &lt;e&gt;Romney &lt;/e&gt;'s response to ...</td>\n",
       "    </tr>\n",
       "    <tr>\n",
       "      <th>4</th>\n",
       "      <td>Just for that &lt;a&gt;immigration statement &lt;/a&gt;tha...</td>\n",
       "    </tr>\n",
       "    <tr>\n",
       "      <th>5</th>\n",
       "      <td>This man  &lt;e&gt;Romney  &lt;/e&gt;is tearing this dude ...</td>\n",
       "    </tr>\n",
       "  </tbody>\n",
       "</table>\n",
       "</div>"
      ],
      "text/plain": [
       "                                              tweets\n",
       "1  <e>Romney</e> got 3 less minutes and had to de...\n",
       "2  <e>Mitt  </e>is beating him UP!  on his record...\n",
       "3  I actually like  <e>Romney </e>'s response to ...\n",
       "4  Just for that <a>immigration statement </a>tha...\n",
       "5  This man  <e>Romney  </e>is tearing this dude ..."
      ]
     },
     "execution_count": 22,
     "metadata": {},
     "output_type": "execute_result"
    }
   ],
   "source": [
    "df_romney.head()"
   ]
  },
  {
   "cell_type": "markdown",
   "metadata": {},
   "source": [
    "# Data Cleaning"
   ]
  },
  {
   "cell_type": "code",
   "execution_count": 4,
   "metadata": {},
   "outputs": [],
   "source": [
    "def clean_data(df):\n",
    "    df = df.drop(['Unnamed: 0', 'date', 'time', 'Unnamed: 5'], axis=1)\n",
    "    df = df.rename(columns = {'Unnamed: 4': 'class', 'Anootated tweet': 'tweets'})\n",
    "    df = df.dropna()\n",
    "    df = df[~df['class'].isin(['irrevelant', 'irrelevant', 'IR', 'Class', '!!!!', 2])]\n",
    "    df['class'] = df['class'].astype(int)\n",
    "    df = df.drop(df[df['class'] == 2].index)\n",
    "    df = df.reset_index(drop=True)\n",
    "\n",
    "    return df\n",
    "\n",
    "# df_obama = clean_data(df_obama)\n",
    "# df_romney = clean_data(df_romney)\n",
    "\n",
    "def clean_tweets(text):\n",
    "    text = text.lower()\n",
    "    text = re.sub('<[^>]+>', '', text) # remove HTML tags\n",
    "    text = re.sub('@[^\\s]+','',text) # remove usernames\n",
    "    text = re.sub('[<>!()_*/~\"|@$#:.,%\\?-]+', '', text) # remove punctuation and special characters\n",
    "    text = re.sub('http\\S+', '', text) # remove URLs\n",
    "    # text = text.encode('ascii', 'ignore').decode('ascii') # remove non-ascii characters\n",
    "    text = re.sub(' +', ' ', text).strip() # remove extra spaces\n",
    "    if text == '':\n",
    "        return None\n",
    "\n",
    "    return text\n",
    "\n",
    "df_obama['tweets'] = df_obama['tweets'].apply(clean_tweets)\n",
    "df_romney['tweets'] = df_romney['tweets'].apply(clean_tweets)\n",
    "\n",
    "def tokenize(tweet):\n",
    "    ps = PorterStemmer()\n",
    "\n",
    "    tokens = word_tokenize(tweet) # tokenize words\n",
    "    cleaned_tokens = [ word for word in tokens if word not in stopwords.words('english')] # remove stopwords\n",
    "    stemmed_tokens = [ ps.stem(word) for word in cleaned_tokens] # stem words\n",
    "    new_tweet = ' '.join(stemmed_tokens) # join words back into a string\n",
    "    if new_tweet == '':\n",
    "        return None\n",
    "\n",
    "    return new_tweet\n",
    "\n",
    "# df_obama['tweets'] = df_obama['tweets'].apply(tokenize)\n",
    "# df_romney['tweets'] = df_romney['tweets'].apply(tokenize)"
   ]
  },
  {
   "cell_type": "code",
   "execution_count": 5,
   "metadata": {},
   "outputs": [],
   "source": [
    "df_obama.to_csv('data/test_obama_cleaned.csv')\n",
    "df_romney.to_csv('data/test_romney_cleaned.csv')"
   ]
  },
  {
   "cell_type": "code",
   "execution_count": 25,
   "metadata": {},
   "outputs": [
    {
     "data": {
      "text/html": [
       "<div>\n",
       "<style scoped>\n",
       "    .dataframe tbody tr th:only-of-type {\n",
       "        vertical-align: middle;\n",
       "    }\n",
       "\n",
       "    .dataframe tbody tr th {\n",
       "        vertical-align: top;\n",
       "    }\n",
       "\n",
       "    .dataframe thead th {\n",
       "        text-align: right;\n",
       "    }\n",
       "</style>\n",
       "<table border=\"1\" class=\"dataframe\">\n",
       "  <thead>\n",
       "    <tr style=\"text-align: right;\">\n",
       "      <th></th>\n",
       "      <th>tweets</th>\n",
       "    </tr>\n",
       "  </thead>\n",
       "  <tbody>\n",
       "    <tr>\n",
       "      <th>1</th>\n",
       "      <td>obama has to maintain his professionalism thro...</td>\n",
       "    </tr>\n",
       "    <tr>\n",
       "      <th>2</th>\n",
       "      <td>obama went into the debate swinging and came o...</td>\n",
       "    </tr>\n",
       "    <tr>\n",
       "      <th>3</th>\n",
       "      <td>ditto i started 4 years ago rt i work for a sm...</td>\n",
       "    </tr>\n",
       "    <tr>\n",
       "      <th>4</th>\n",
       "      <td>i absolutely love obama's view in immigration ...</td>\n",
       "    </tr>\n",
       "    <tr>\n",
       "      <th>5</th>\n",
       "      <td>i'm agreeing completely with obama's stance on...</td>\n",
       "    </tr>\n",
       "  </tbody>\n",
       "</table>\n",
       "</div>"
      ],
      "text/plain": [
       "                                              tweets\n",
       "1  obama has to maintain his professionalism thro...\n",
       "2  obama went into the debate swinging and came o...\n",
       "3  ditto i started 4 years ago rt i work for a sm...\n",
       "4  i absolutely love obama's view in immigration ...\n",
       "5  i'm agreeing completely with obama's stance on..."
      ]
     },
     "execution_count": 25,
     "metadata": {},
     "output_type": "execute_result"
    }
   ],
   "source": [
    "df_obama.head()"
   ]
  },
  {
   "cell_type": "code",
   "execution_count": 26,
   "metadata": {},
   "outputs": [
    {
     "data": {
      "text/html": [
       "<div>\n",
       "<style scoped>\n",
       "    .dataframe tbody tr th:only-of-type {\n",
       "        vertical-align: middle;\n",
       "    }\n",
       "\n",
       "    .dataframe tbody tr th {\n",
       "        vertical-align: top;\n",
       "    }\n",
       "\n",
       "    .dataframe thead th {\n",
       "        text-align: right;\n",
       "    }\n",
       "</style>\n",
       "<table border=\"1\" class=\"dataframe\">\n",
       "  <thead>\n",
       "    <tr style=\"text-align: right;\">\n",
       "      <th></th>\n",
       "      <th>tweets</th>\n",
       "    </tr>\n",
       "  </thead>\n",
       "  <tbody>\n",
       "    <tr>\n",
       "      <th>1</th>\n",
       "      <td>romney got 3 less minutes and had to debate ca...</td>\n",
       "    </tr>\n",
       "    <tr>\n",
       "      <th>2</th>\n",
       "      <td>mitt is beating him up on his record on credib...</td>\n",
       "    </tr>\n",
       "    <tr>\n",
       "      <th>3</th>\n",
       "      <td>i actually like romney 's response to immigration</td>\n",
       "    </tr>\n",
       "    <tr>\n",
       "      <th>4</th>\n",
       "      <td>just for that immigration statement that romne...</td>\n",
       "    </tr>\n",
       "    <tr>\n",
       "      <th>5</th>\n",
       "      <td>this man romney is tearing this dude up on eco...</td>\n",
       "    </tr>\n",
       "  </tbody>\n",
       "</table>\n",
       "</div>"
      ],
      "text/plain": [
       "                                              tweets\n",
       "1  romney got 3 less minutes and had to debate ca...\n",
       "2  mitt is beating him up on his record on credib...\n",
       "3  i actually like romney 's response to immigration\n",
       "4  just for that immigration statement that romne...\n",
       "5  this man romney is tearing this dude up on eco..."
      ]
     },
     "execution_count": 26,
     "metadata": {},
     "output_type": "execute_result"
    }
   ],
   "source": [
    "df_romney.head()"
   ]
  }
 ],
 "metadata": {
  "kernelspec": {
   "display_name": ".venv",
   "language": "python",
   "name": "python3"
  },
  "language_info": {
   "codemirror_mode": {
    "name": "ipython",
    "version": 3
   },
   "file_extension": ".py",
   "mimetype": "text/x-python",
   "name": "python",
   "nbconvert_exporter": "python",
   "pygments_lexer": "ipython3",
   "version": "3.9.6"
  }
 },
 "nbformat": 4,
 "nbformat_minor": 2
}
